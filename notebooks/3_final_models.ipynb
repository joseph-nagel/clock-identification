{
 "cells": [
  {
   "cell_type": "markdown",
   "metadata": {},
   "source": [
    "# OLX case study: Final models\n",
    "\n",
    "This last notebook demonstrates how to import and deploy the created models. They can be used to assess the blurriness of images and to classify whether or not they show a clock. As a summary, the predictions for all images provided by OLX are collected in a JSON file."
   ]
  },
  {
   "cell_type": "code",
   "execution_count": null,
   "metadata": {},
   "outputs": [],
   "source": [
    "%load_ext autoreload\n",
    "%autoreload 2\n",
    "%matplotlib inline\n",
    "\n",
    "import sys\n",
    "sys.path.append('..')"
   ]
  },
  {
   "cell_type": "code",
   "execution_count": null,
   "metadata": {},
   "outputs": [],
   "source": [
    "import os\n",
    "import pathlib\n",
    "import json\n",
    "\n",
    "import requests\n",
    "from PIL import Image\n",
    "\n",
    "from models import OLXModel"
   ]
  },
  {
   "cell_type": "code",
   "execution_count": null,
   "metadata": {},
   "outputs": [],
   "source": [
    "data_dir = '../data' # data directory\n",
    "weights_file = '../weights.pt' # stored weights"
   ]
  },
  {
   "cell_type": "code",
   "execution_count": null,
   "metadata": {},
   "outputs": [],
   "source": [
    "model = OLXModel(weights_file) # predicts blurriness and clockness"
   ]
  },
  {
   "cell_type": "code",
   "execution_count": null,
   "metadata": {},
   "outputs": [],
   "source": [
    "summary = {}\n",
    "for subdir, dirs, files in os.walk(data_dir):\n",
    "    file_names = sorted([f for f in files if f.endswith(('.jpg', '.jpeg'))])\n",
    "\n",
    "    for file_name in file_names:\n",
    "        file_path = os.path.join(subdir, file_name)\n",
    "        image = Image.open(file_path)\n",
    "\n",
    "        blurriness, clockness, is_clock = model(\n",
    "            image,\n",
    "            transform_mode='full',\n",
    "            threshold=0.5\n",
    "        )\n",
    "\n",
    "        summary[file_name] = {\n",
    "            'blurriness': blurriness,\n",
    "            'clockness': clockness,\n",
    "            'isclock': is_clock\n",
    "        }"
   ]
  },
  {
   "cell_type": "code",
   "execution_count": null,
   "metadata": {},
   "outputs": [],
   "source": [
    "with open('../summary.json', 'w') as f:\n",
    "    json.dump(summary, f, indent=2)"
   ]
  },
  {
   "cell_type": "markdown",
   "metadata": {},
   "source": [
    "Assuming that a Flask inference server is already running, we can query model predictions also as shown below. Note that both example images are correctly classified. Though, it is remarked that they might have been part of the training set."
   ]
  },
  {
   "cell_type": "code",
   "execution_count": null,
   "metadata": {},
   "outputs": [],
   "source": [
    "files = ('551_2.jpg', '3255325488.jpg')\n",
    "\n",
    "predictions = []\n",
    "for file_name in files:\n",
    "    with open(pathlib.Path(data_dir) / file_name, 'rb') as f:\n",
    "        image_bytes = f.read()\n",
    "    r = requests.post(url='http://localhost:5000/predict', files={'image': image_bytes}).json()\n",
    "    predictions.append(r)\n",
    "\n",
    "print('Other image:', predictions[0])\n",
    "print('Clock image:', predictions[1])"
   ]
  }
 ],
 "metadata": {
  "kernelspec": {
   "display_name": "Python 3 (ipykernel)",
   "language": "python",
   "name": "python3"
  },
  "language_info": {
   "codemirror_mode": {
    "name": "ipython",
    "version": 3
   },
   "file_extension": ".py",
   "mimetype": "text/x-python",
   "name": "python",
   "nbconvert_exporter": "python",
   "pygments_lexer": "ipython3",
   "version": "3.10.9"
  }
 },
 "nbformat": 4,
 "nbformat_minor": 4
}
